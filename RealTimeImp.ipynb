{
 "cells": [
  {
   "cell_type": "code",
   "execution_count": 6,
   "id": "5ace91e6",
   "metadata": {},
   "outputs": [],
   "source": [
    "import requests\n",
    "import os\n",
    "import time\n",
    "import json\n",
    "from datetime import datetime\n",
    "from dotenv import load_dotenv\n",
    "\n",
    "load_dotenv()  # Load API keys from .env file\n",
    "api_key = os.getenv(\"OPENWEATHER_API_KEY\")\n",
    "\n",
    "if not api_key:\n",
    "    raise ValueError(\"OPENWEATHER_API_KEY not found in environment variables.\")\n"
   ]
  },
  {
   "cell_type": "code",
   "execution_count": 7,
   "id": "0c81306b",
   "metadata": {},
   "outputs": [
    {
     "name": "stdout",
     "output_type": "stream",
     "text": [
      "{'coord': {'lon': -74.006, 'lat': 40.7143}, 'weather': [{'id': 701, 'main': 'Mist', 'description': 'mist', 'icon': '50d'}], 'base': 'stations', 'main': {'temp': 4.24, 'feels_like': -0.72, 'temp_min': 3.31, 'temp_max': 4.99, 'pressure': 1014, 'humidity': 90, 'sea_level': 1014, 'grnd_level': 1012}, 'visibility': 8047, 'wind': {'speed': 7.72, 'deg': 360}, 'clouds': {'all': 100}, 'dt': 1744496189, 'sys': {'type': 2, 'id': 2037026, 'country': 'US', 'sunrise': 1744453279, 'sunset': 1744500702}, 'timezone': -14400, 'id': 5128581, 'name': 'New York', 'cod': 200}\n"
     ]
    }
   ],
   "source": [
    "#https://api.openweathermap.org/data/2.5/weather?lat={lat}&lon={lon}&appid={API key}\n",
    "city = \"New York\"\n",
    "url = f\"https://api.openweathermap.org/data/2.5/weather?q={city}&appid={api_key}&units=metric\"\n",
    "\n",
    "response = requests.get(url)\n",
    "weather_data = response.json()\n",
    "\n",
    "print(weather_data)"
   ]
  },
  {
   "cell_type": "code",
   "execution_count": 8,
   "id": "3a20fe7b",
   "metadata": {},
   "outputs": [],
   "source": [
    "import osmnx as ox\n"
   ]
  },
  {
   "cell_type": "code",
   "execution_count": null,
   "id": "ba28fd11",
   "metadata": {},
   "outputs": [
    {
     "name": "stdout",
     "output_type": "stream",
     "text": [
      "                            highway           amenity railway junction  \\\n",
      "element id                                                               \n",
      "node    195389762   traffic_signals               NaN     NaN      NaN   \n",
      "        195404663   traffic_signals               NaN     NaN      NaN   \n",
      "        195419278   traffic_signals               NaN     NaN      NaN   \n",
      "        195419298   traffic_signals               NaN     NaN      NaN   \n",
      "        195419341   traffic_signals               NaN     NaN      NaN   \n",
      "...                             ...               ...     ...      ...   \n",
      "way     1341144382              NaN        veterinary     NaN      NaN   \n",
      "        1341150721              NaN           parking     NaN      NaN   \n",
      "        1346996931              NaN  charging_station     NaN      NaN   \n",
      "        1357855397              NaN           parking     NaN      NaN   \n",
      "        1372596387              NaN               NaN    rail      NaN   \n",
      "\n",
      "                   traffic_calming  \n",
      "element id                          \n",
      "node    195389762              NaN  \n",
      "        195404663              NaN  \n",
      "        195419278              NaN  \n",
      "        195419298              NaN  \n",
      "        195419341              NaN  \n",
      "...                            ...  \n",
      "way     1341144382             NaN  \n",
      "        1341150721             NaN  \n",
      "        1346996931             NaN  \n",
      "        1357855397             NaN  \n",
      "        1372596387             NaN  \n",
      "\n",
      "[1612 rows x 5 columns]\n"
     ]
    }
   ],
   "source": [
    "place = \"Apex, North Carolina, USA\"\n",
    "\n",
    "\n",
    "# Define tags you're interested in\n",
    "tags = {\n",
    "    'highway': ['traffic_signals', 'stop', 'crossing', 'give_way'],\n",
    "    'traffic_calming': True,\n",
    "    'railway': ['station', 'rail'],\n",
    "    'junction': True,\n",
    "    'amenity': True\n",
    "}\n",
    "\n",
    "# Query features from the place\n",
    "pois = ox.features_from_point(place, tags=tags)\n",
    "\n",
    "# Filter only the relevant columns and drop empty rows\n",
    "print(pois[['highway', 'amenity', 'railway', 'junction', 'traffic_calming']].dropna(how='all'))"
   ]
  }
 ],
 "metadata": {
  "kernelspec": {
   "display_name": "proj",
   "language": "python",
   "name": "python3"
  },
  "language_info": {
   "codemirror_mode": {
    "name": "ipython",
    "version": 3
   },
   "file_extension": ".py",
   "mimetype": "text/x-python",
   "name": "python",
   "nbconvert_exporter": "python",
   "pygments_lexer": "ipython3",
   "version": "3.11.0"
  }
 },
 "nbformat": 4,
 "nbformat_minor": 5
}
